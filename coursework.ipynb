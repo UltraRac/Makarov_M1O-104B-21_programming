{
  "metadata": {
    "language_info": {
      "codemirror_mode": {
        "name": "python",
        "version": 3
      },
      "file_extension": ".py",
      "mimetype": "text/x-python",
      "name": "python",
      "nbconvert_exporter": "python",
      "pygments_lexer": "ipython3",
      "version": "3.8"
    },
    "kernelspec": {
      "name": "python",
      "display_name": "Pyolite",
      "language": "python"
    }
  },
  "nbformat_minor": 4,
  "nbformat": 4,
  "cells": [
    {
      "cell_type": "markdown",
      "source": "Метод простой итерации",
      "metadata": {}
    },
    {
      "cell_type": "code",
      "source": "import numpy as np\nimport math\nfrom typing import Callable\nimport matplotlib as plt\nfrom sys import exit",
      "metadata": {
        "trusted": true
      },
      "execution_count": 1,
      "outputs": []
    },
    {
      "cell_type": "code",
      "source": "def simple_iteration(phi: Callable, phi_derivate: Callable, interval: tuple, eps: float) -> list:\n    q = max([abs(phi_derivative(x)) for x in np.arange(interval[0], interval[1], eps)])\n    if q>=1:\n        print('Функция не удовлетворяет второму условию сходимости')\n        exit()\n           \n    x_prev = (interval[0] + interval[1]) / 2\n    x_cur = phi(x_prev)\n    \n    iters = 0\n    while q / (1-q) * abs(x_cur - x_prev) >= eps:\n        x_prev = x_cur\n        x_cur = phi(x_prev)\n        iters += 1\n        \n    return x_cur, iters\n\nif __name__ == '__main__':\n    phi = lambda x: math.sqrt((3**x + 1) / 5)\n    phi_derivative = lambda x: ((3**x * np.log(3)) / 10) * (math.sqrt(5 / (3**x + 1)))\n    eps = 0.0000001\n    interval = (0.8, 0.85)\n    root, iter_count = simple_iteration(phi, phi_derivative, interval, eps)\n    print(f'Решение: {root}, количество итераций: {iter_count}')\n    ",
      "metadata": {
        "trusted": true
      },
      "execution_count": 29,
      "outputs": [
        {
          "name": "stdout",
          "text": "Решение: 0.8379411537731135, количество итераций: 10\n",
          "output_type": "stream"
        }
      ]
    },
    {
      "cell_type": "markdown",
      "source": "Метод Ньютона",
      "metadata": {}
    },
    {
      "cell_type": "code",
      "source": "def Newton_method(f: Callable, f_first_derivative: Callable, f_second_derivative: Callable, start_x: float, eps: float) -> list:\n    iters = 0\n    x_prev = start_x\n    x_cur = x_prev - f(x_prev) / f_first_derivative(x_prev)\n    iters = 1\n    \n    while abs(x_cur - x_prev) >= eps:\n        x_prev = x_cur\n        x_cur = x_prev - f(x_prev) / f_first_derivative(x_prev)\n        \n        if abs(x_cur - x_prev) <= eps:\n            return x_cur, iters\n        iters += 1 \nif __name__ == '__main__':\n    f = lambda x: 3**x - 5 * x**2 + 1\n    f_first_derivative = lambda x: 3**x * np.log(3) - 10 * x \n    f_second_derivative = lambda x: (np.log(3))**2 * 3**x - 10\n    eps = 0.0000001\n    start_x = 0.8\n    root, iter_count = Newton_method(f, f_first_derivative, f_second_derivative, start_x, eps)\n    print(f'Решение: {root}, количество итераций: {iter_count}')",
      "metadata": {
        "trusted": true
      },
      "execution_count": 28,
      "outputs": [
        {
          "name": "stdout",
          "text": "Решение: 0.8379412169791672, количество итераций: 3\n",
          "output_type": "stream"
        }
      ]
    },
    {
      "cell_type": "code",
      "source": "",
      "metadata": {},
      "execution_count": null,
      "outputs": []
    }
  ]
}